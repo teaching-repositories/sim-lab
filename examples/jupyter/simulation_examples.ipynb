{
 "cells": [
  {
   "cell_type": "markdown",
   "metadata": {},
   "source": [
    "# SimNexus Examples\n",
    "\n",
    "This notebook demonstrates how to use SimNexus simulations in a Jupyter environment."
   ]
  },
  {
   "cell_type": "code",
   "execution_count": null,
   "metadata": {},
   "source": [
    "# Import necessary libraries\n",
    "import numpy as np\n",
    "import matplotlib.pyplot as plt\n",
    "import pandas as pd\n",
    "\n",
    "# Import simulations from SimNexus\n",
    "from simnexus import (\n",
    "    StockMarketSimulation, \n",
    "    ResourceFluctuationsSimulation, \n",
    "    ProductPopularitySimulation\n",
    ")"
   ]
  },
  {
   "cell_type": "markdown",
   "metadata": {},
   "source": [
    "## 1. Stock Market Simulation\n",
    "\n",
    "Let's create a stock market simulation with a market crash event."
   ]
  },
  {
   "cell_type": "code",
   "execution_count": null,
   "metadata": {},
   "source": [
    "# Create a simulation instance\n",
    "stock_sim = StockMarketSimulation(\n",
    "    start_price=100,     # Starting price\n",
    "    days=365,            # Simulate for one year\n",
    "    volatility=0.03,     # Daily volatility\n",
    "    drift=0.001,         # Slight upward trend\n",
    "    event_day=180,       # Major event mid-year\n",
    "    event_impact=-0.2,   # 20% crash\n",
    "    random_seed=42       # For reproducibility\n",
    ")\n",
    "\n",
    "# Run the simulation\n",
    "stock_prices = stock_sim.run_simulation()\n",
    "\n",
    "# Convert to DataFrame for easier analysis\n",
    "stock_df = pd.DataFrame({\n",
    "    'Day': range(len(stock_prices)),\n",
    "    'Price': stock_prices\n",
    "})"
   ]
  },
  {
   "cell_type": "code",
   "execution_count": null,
   "metadata": {},
   "source": [
    "# Visualize the stock prices\n",
    "plt.figure(figsize=(12, 6))\n",
    "plt.plot(stock_df['Day'], stock_df['Price'], label='Stock Price')\n",
    "plt.axvline(x=stock_sim.event_day, color='red', linestyle='--', label=f'Market Crash ({stock_sim.event_impact*100:.0f}%)')\n",
    "plt.xlabel('Days')\n",
    "plt.ylabel('Price ($)')\n",
    "plt.title('Stock Market Simulation with Market Crash')\n",
    "plt.grid(True, alpha=0.3)\n",
    "plt.legend()\n",
    "plt.show()"
   ]
  },
  {
   "cell_type": "markdown",
   "metadata": {},
   "source": [
    "## 2. Resource Fluctuations Simulation\n",
    "\n",
    "Now let's simulate resource price fluctuations with a supply disruption."
   ]
  },
  {
   "cell_type": "code",
   "execution_count": null,
   "metadata": {},
   "source": [
    "# Create a simulation instance\n",
    "resource_sim = ResourceFluctuationsSimulation(\n",
    "    start_price=50,           # Starting price\n",
    "    days=250,                 # Simulate for 250 days\n",
    "    volatility=0.02,          # Daily volatility\n",
    "    drift=0.0005,             # Slight upward trend\n",
    "    supply_disruption_day=120,# Supply disruption\n",
    "    disruption_severity=0.3,  # 30% price increase due to disruption\n",
    "    random_seed=42            # For reproducibility\n",
    ")\n",
    "\n",
    "# Run the simulation\n",
    "resource_prices = resource_sim.run_simulation()\n",
    "\n",
    "# Convert to DataFrame for easier analysis\n",
    "resource_df = pd.DataFrame({\n",
    "    'Day': range(len(resource_prices)),\n",
    "    'Price': resource_prices\n",
    "})"
   ]
  },
  {
   "cell_type": "code",
   "execution_count": null,
   "metadata": {},
   "source": [
    "# Visualize the resource prices\n",
    "plt.figure(figsize=(12, 6))\n",
    "plt.plot(resource_df['Day'], resource_df['Price'], label='Resource Price')\n",
    "plt.axvline(x=resource_sim.supply_disruption_day, color='red', linestyle='--', \n",
    "            label=f'Supply Disruption (+{resource_sim.disruption_severity*100:.0f}%)')\n",
    "plt.xlabel('Days')\n",
    "plt.ylabel('Price ($)')\n",
    "plt.title('Resource Price Simulation with Supply Disruption')\n",
    "plt.grid(True, alpha=0.3)\n",
    "plt.legend()\n",
    "plt.show()"
   ]
  },
  {
   "cell_type": "markdown",
   "metadata": {},
   "source": [
    "## 3. Comparing Multiple Scenarios\n",
    "\n",
    "Let's run multiple simulations with different parameters and compare them."
   ]
  },
  {
   "cell_type": "code",
   "execution_count": null,
   "metadata": {},
   "source": [
    "# Create multiple simulations with different volatilities\n",
    "volatilities = [0.01, 0.02, 0.05]\n",
    "colors = ['blue', 'green', 'red']\n",
    "days = 365\n",
    "start_price = 100\n",
    "\n",
    "plt.figure(figsize=(12, 6))\n",
    "\n",
    "for i, vol in enumerate(volatilities):\n",
    "    sim = StockMarketSimulation(\n",
    "        start_price=start_price,\n",
    "        days=days,\n",
    "        volatility=vol,\n",
    "        drift=0.001,\n",
    "        random_seed=42  # Same seed for comparability\n",
    "    )\n",
    "    \n",
    "    prices = sim.run_simulation()\n",
    "    plt.plot(range(days), prices, color=colors[i], label=f'Volatility = {vol}')\n",
    "\n",
    "plt.xlabel('Days')\n",
    "plt.ylabel('Price ($)')\n",
    "plt.title('Impact of Different Volatility Levels on Stock Prices')\n",
    "plt.grid(True, alpha=0.3)\n",
    "plt.legend()\n",
    "plt.show()"
   ]
  },
  {
   "cell_type": "markdown",
   "metadata": {},
   "source": [
    "## 4. Analysis of Simulation Results\n",
    "\n",
    "Let's analyze the statistics of our simulation results."
   ]
  },
  {
   "cell_type": "code",
   "execution_count": null,
   "metadata": {},
   "source": [
    "# Function to calculate simulation stats\n",
    "def calc_stats(prices):\n",
    "    start_price = prices[0]\n",
    "    end_price = prices[-1]\n",
    "    min_price = min(prices)\n",
    "    max_price = max(prices)\n",
    "    change_pct = ((end_price - start_price) / start_price) * 100\n",
    "    volatility = np.std(np.diff(prices) / prices[:-1])\n",
    "    \n",
    "    return {\n",
    "        \"Start Price\": f\"${start_price:.2f}\",\n",
    "        \"End Price\": f\"${end_price:.2f}\",\n",
    "        \"Min Price\": f\"${min_price:.2f}\",\n",
    "        \"Max Price\": f\"${max_price:.2f}\",\n",
    "        \"Change\": f\"{change_pct:.2f}%\",\n",
    "        \"Volatility\": f\"{volatility*100:.2f}%\"\n",
    "    }\n",
    "\n",
    "# Calculate stats for stock simulation\n",
    "stock_stats = calc_stats(stock_prices)\n",
    "resource_stats = calc_stats(resource_prices)\n",
    "\n",
    "# Display stats in a DataFrame\n",
    "stats_df = pd.DataFrame({\n",
    "    \"Stock Market\": stock_stats,\n",
    "    \"Resource Prices\": resource_stats\n",
    "})\n",
    "\n",
    "stats_df"
   ]
  },
  {
   "cell_type": "markdown",
   "metadata": {},
   "source": [
    "## 5. Saving Simulation Results\n",
    "\n",
    "Let's save our simulation results to CSV files for future analysis."
   ]
  },
  {
   "cell_type": "code",
   "execution_count": null,
   "metadata": {},
   "source": [
    "# Save stock simulation results\n",
    "stock_df.to_csv('stock_simulation_results.csv', index=False)\n",
    "print(\"Stock simulation results saved to 'stock_simulation_results.csv'\")\n",
    "\n",
    "# Save resource simulation results\n",
    "resource_df.to_csv('resource_simulation_results.csv', index=False)\n",
    "print(\"Resource simulation results saved to 'resource_simulation_results.csv'\")"
   ]
  }
 ],
 "metadata": {
  "kernelspec": {
   "display_name": "Python 3",
   "language": "python",
   "name": "python3"
  },
  "language_info": {
   "codemirror_mode": {
    "name": "ipython",
    "version": 3
   },
   "file_extension": ".py",
   "mimetype": "text/x-python",
   "name": "python",
   "nbconvert_exporter": "python",
   "pygments_lexer": "ipython3",
   "version": "3.10.0"
  }
 },
 "nbformat": 4,
 "nbformat_minor": 4
}